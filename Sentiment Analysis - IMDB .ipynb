{
 "cells": [
  {
   "cell_type": "code",
   "execution_count": 1,
   "id": "9d4dcb43",
   "metadata": {},
   "outputs": [],
   "source": [
    "import pandas as pd\n",
    "import re\n",
    "import nltk\n",
    "import string\n",
    "from collections import Counter\n",
    "import unicodedata\n",
    "import plotly.express as px"
   ]
  },
  {
   "cell_type": "code",
   "execution_count": 2,
   "id": "c614c89b",
   "metadata": {},
   "outputs": [
    {
     "data": {
      "text/html": [
       "<div>\n",
       "<style scoped>\n",
       "    .dataframe tbody tr th:only-of-type {\n",
       "        vertical-align: middle;\n",
       "    }\n",
       "\n",
       "    .dataframe tbody tr th {\n",
       "        vertical-align: top;\n",
       "    }\n",
       "\n",
       "    .dataframe thead th {\n",
       "        text-align: right;\n",
       "    }\n",
       "</style>\n",
       "<table border=\"1\" class=\"dataframe\">\n",
       "  <thead>\n",
       "    <tr style=\"text-align: right;\">\n",
       "      <th></th>\n",
       "      <th>review</th>\n",
       "      <th>sentiment</th>\n",
       "    </tr>\n",
       "  </thead>\n",
       "  <tbody>\n",
       "    <tr>\n",
       "      <th>0</th>\n",
       "      <td>One of the other reviewers has mentioned that ...</td>\n",
       "      <td>positive</td>\n",
       "    </tr>\n",
       "    <tr>\n",
       "      <th>1</th>\n",
       "      <td>A wonderful little production. &lt;br /&gt;&lt;br /&gt;The...</td>\n",
       "      <td>positive</td>\n",
       "    </tr>\n",
       "    <tr>\n",
       "      <th>2</th>\n",
       "      <td>I thought this was a wonderful way to spend ti...</td>\n",
       "      <td>positive</td>\n",
       "    </tr>\n",
       "    <tr>\n",
       "      <th>3</th>\n",
       "      <td>Basically there's a family where a little boy ...</td>\n",
       "      <td>negative</td>\n",
       "    </tr>\n",
       "    <tr>\n",
       "      <th>4</th>\n",
       "      <td>Petter Mattei's \"Love in the Time of Money\" is...</td>\n",
       "      <td>positive</td>\n",
       "    </tr>\n",
       "  </tbody>\n",
       "</table>\n",
       "</div>"
      ],
      "text/plain": [
       "                                              review sentiment\n",
       "0  One of the other reviewers has mentioned that ...  positive\n",
       "1  A wonderful little production. <br /><br />The...  positive\n",
       "2  I thought this was a wonderful way to spend ti...  positive\n",
       "3  Basically there's a family where a little boy ...  negative\n",
       "4  Petter Mattei's \"Love in the Time of Money\" is...  positive"
      ]
     },
     "execution_count": 2,
     "metadata": {},
     "output_type": "execute_result"
    }
   ],
   "source": [
    "#Exploratory Data Analysis\n",
    "df = pd.read_csv('IMDB Dataset.csv')\n",
    "df.head()\n"
   ]
  },
  {
   "cell_type": "code",
   "execution_count": 3,
   "id": "930545cd",
   "metadata": {},
   "outputs": [
    {
     "name": "stdout",
     "output_type": "stream",
     "text": [
      "<class 'pandas.core.frame.DataFrame'>\n",
      "RangeIndex: 50000 entries, 0 to 49999\n",
      "Data columns (total 2 columns):\n",
      " #   Column     Non-Null Count  Dtype \n",
      "---  ------     --------------  ----- \n",
      " 0   review     50000 non-null  object\n",
      " 1   sentiment  50000 non-null  object\n",
      "dtypes: object(2)\n",
      "memory usage: 781.4+ KB\n"
     ]
    }
   ],
   "source": [
    "df.info()"
   ]
  },
  {
   "cell_type": "code",
   "execution_count": 4,
   "id": "ec7b30e5",
   "metadata": {},
   "outputs": [
    {
     "data": {
      "text/plain": [
       "<AxesSubplot:>"
      ]
     },
     "execution_count": 4,
     "metadata": {},
     "output_type": "execute_result"
    },
    {
     "data": {
      "image/png": "[encoded data removed]",
      "text/plain": [
       "<Figure size 432x288 with 1 Axes>"
      ]
     },
     "metadata": {
      "needs_background": "light"
     },
     "output_type": "display_data"
    }
   ],
   "source": [
    "df['sentiment'].value_counts().plot(kind='barh')\n"
   ]
  },
  {
   "cell_type": "code",
   "execution_count": 31,
   "id": "8a96e87a",
   "metadata": {},
   "outputs": [
    {
     "data": {
      "text/html": [
       "<div>\n",
       "<style scoped>\n",
       "    .dataframe tbody tr th:only-of-type {\n",
       "        vertical-align: middle;\n",
       "    }\n",
       "\n",
       "    .dataframe tbody tr th {\n",
       "        vertical-align: top;\n",
       "    }\n",
       "\n",
       "    .dataframe thead th {\n",
       "        text-align: right;\n",
       "    }\n",
       "</style>\n",
       "<table border=\"1\" class=\"dataframe\">\n",
       "  <thead>\n",
       "    <tr style=\"text-align: right;\">\n",
       "      <th></th>\n",
       "      <th>0</th>\n",
       "      <th>1</th>\n",
       "      <th>2</th>\n",
       "    </tr>\n",
       "  </thead>\n",
       "  <tbody>\n",
       "    <tr>\n",
       "      <th>am</th>\n",
       "      <td>1</td>\n",
       "      <td>0</td>\n",
       "      <td>0</td>\n",
       "    </tr>\n",
       "    <tr>\n",
       "      <th>be</th>\n",
       "      <td>0</td>\n",
       "      <td>0</td>\n",
       "      <td>1</td>\n",
       "    </tr>\n",
       "    <tr>\n",
       "      <th>exploring</th>\n",
       "      <td>1</td>\n",
       "      <td>0</td>\n",
       "      <td>0</td>\n",
       "    </tr>\n",
       "    <tr>\n",
       "      <th>first</th>\n",
       "      <td>1</td>\n",
       "      <td>0</td>\n",
       "      <td>0</td>\n",
       "    </tr>\n",
       "    <tr>\n",
       "      <th>focussed</th>\n",
       "      <td>0</td>\n",
       "      <td>0</td>\n",
       "      <td>1</td>\n",
       "    </tr>\n",
       "    <tr>\n",
       "      <th>hope</th>\n",
       "      <td>0</td>\n",
       "      <td>1</td>\n",
       "      <td>0</td>\n",
       "    </tr>\n",
       "    <tr>\n",
       "      <th>implement</th>\n",
       "      <td>0</td>\n",
       "      <td>1</td>\n",
       "      <td>0</td>\n",
       "    </tr>\n",
       "    <tr>\n",
       "      <th>is</th>\n",
       "      <td>1</td>\n",
       "      <td>0</td>\n",
       "      <td>1</td>\n",
       "    </tr>\n",
       "    <tr>\n",
       "      <th>nlp</th>\n",
       "      <td>1</td>\n",
       "      <td>0</td>\n",
       "      <td>0</td>\n",
       "    </tr>\n",
       "    <tr>\n",
       "      <th>not</th>\n",
       "      <td>0</td>\n",
       "      <td>0</td>\n",
       "      <td>1</td>\n",
       "    </tr>\n",
       "    <tr>\n",
       "      <th>stupid</th>\n",
       "      <td>0</td>\n",
       "      <td>0</td>\n",
       "      <td>1</td>\n",
       "    </tr>\n",
       "    <tr>\n",
       "      <th>tfidf</th>\n",
       "      <td>0</td>\n",
       "      <td>1</td>\n",
       "      <td>0</td>\n",
       "    </tr>\n",
       "    <tr>\n",
       "      <th>the</th>\n",
       "      <td>1</td>\n",
       "      <td>0</td>\n",
       "      <td>0</td>\n",
       "    </tr>\n",
       "    <tr>\n",
       "      <th>this</th>\n",
       "      <td>1</td>\n",
       "      <td>0</td>\n",
       "      <td>0</td>\n",
       "    </tr>\n",
       "    <tr>\n",
       "      <th>time</th>\n",
       "      <td>1</td>\n",
       "      <td>0</td>\n",
       "      <td>0</td>\n",
       "    </tr>\n",
       "    <tr>\n",
       "      <th>to</th>\n",
       "      <td>0</td>\n",
       "      <td>1</td>\n",
       "      <td>0</td>\n",
       "    </tr>\n",
       "  </tbody>\n",
       "</table>\n",
       "</div>"
      ],
      "text/plain": [
       "           0  1  2\n",
       "am         1  0  0\n",
       "be         0  0  1\n",
       "exploring  1  0  0\n",
       "first      1  0  0\n",
       "focussed   0  0  1\n",
       "hope       0  1  0\n",
       "implement  0  1  0\n",
       "is         1  0  1\n",
       "nlp        1  0  0\n",
       "not        0  0  1\n",
       "stupid     0  0  1\n",
       "tfidf      0  1  0\n",
       "the        1  0  0\n",
       "this       1  0  0\n",
       "time       1  0  0\n",
       "to         0  1  0"
      ]
     },
     "execution_count": 31,
     "metadata": {},
     "output_type": "execute_result"
    }
   ],
   "source": [
    "#Let's see how CountVectorizer works with an example\n",
    "\n",
    "from sklearn.feature_extraction.text import CountVectorizer\n",
    "\n",
    "text = ['This is the first time I am exploring NLP','I hope to implement TFIDF',\n",
    "       'Be Focussed is not stupid']\n",
    "\n",
    "count_vect = CountVectorizer()\n",
    "count_matrix = count_vect.fit_transform(text)\n",
    "count_array = count_matrix.toarray()\n",
    "df_1 = pd.DataFrame(data = count_array,columns = count_vect.get_feature_names_out())\n",
    "df_1.T"
   ]
  },
  {
   "cell_type": "code",
   "execution_count": 30,
   "id": "624cab48",
   "metadata": {},
   "outputs": [
    {
     "data": {
      "text/html": [
       "<div>\n",
       "<style scoped>\n",
       "    .dataframe tbody tr th:only-of-type {\n",
       "        vertical-align: middle;\n",
       "    }\n",
       "\n",
       "    .dataframe tbody tr th {\n",
       "        vertical-align: top;\n",
       "    }\n",
       "\n",
       "    .dataframe thead th {\n",
       "        text-align: right;\n",
       "    }\n",
       "</style>\n",
       "<table border=\"1\" class=\"dataframe\">\n",
       "  <thead>\n",
       "    <tr style=\"text-align: right;\">\n",
       "      <th></th>\n",
       "      <th>0</th>\n",
       "      <th>1</th>\n",
       "      <th>2</th>\n",
       "    </tr>\n",
       "  </thead>\n",
       "  <tbody>\n",
       "    <tr>\n",
       "      <th>exploring</th>\n",
       "      <td>1</td>\n",
       "      <td>0</td>\n",
       "      <td>0</td>\n",
       "    </tr>\n",
       "    <tr>\n",
       "      <th>focussed</th>\n",
       "      <td>0</td>\n",
       "      <td>0</td>\n",
       "      <td>1</td>\n",
       "    </tr>\n",
       "    <tr>\n",
       "      <th>hope</th>\n",
       "      <td>0</td>\n",
       "      <td>1</td>\n",
       "      <td>0</td>\n",
       "    </tr>\n",
       "    <tr>\n",
       "      <th>implement</th>\n",
       "      <td>0</td>\n",
       "      <td>1</td>\n",
       "      <td>0</td>\n",
       "    </tr>\n",
       "    <tr>\n",
       "      <th>nlp</th>\n",
       "      <td>1</td>\n",
       "      <td>0</td>\n",
       "      <td>0</td>\n",
       "    </tr>\n",
       "    <tr>\n",
       "      <th>stupid</th>\n",
       "      <td>0</td>\n",
       "      <td>0</td>\n",
       "      <td>1</td>\n",
       "    </tr>\n",
       "    <tr>\n",
       "      <th>tfidf</th>\n",
       "      <td>0</td>\n",
       "      <td>1</td>\n",
       "      <td>0</td>\n",
       "    </tr>\n",
       "    <tr>\n",
       "      <th>time</th>\n",
       "      <td>1</td>\n",
       "      <td>0</td>\n",
       "      <td>0</td>\n",
       "    </tr>\n",
       "  </tbody>\n",
       "</table>\n",
       "</div>"
      ],
      "text/plain": [
       "           0  1  2\n",
       "exploring  1  0  0\n",
       "focussed   0  0  1\n",
       "hope       0  1  0\n",
       "implement  0  1  0\n",
       "nlp        1  0  0\n",
       "stupid     0  0  1\n",
       "tfidf      0  1  0\n",
       "time       1  0  0"
      ]
     },
     "execution_count": 30,
     "metadata": {},
     "output_type": "execute_result"
    }
   ],
   "source": [
    "#Let's see how CountVectorizer works with an example, also use stop words\n",
    "\n",
    "from sklearn.feature_extraction.text import CountVectorizer\n",
    "\n",
    "text = ['This is the first time I am exploring NLP','I hope to implement TFIDF',\n",
    "       'Be Focussed is not stupid']\n",
    "\n",
    "count_vect = CountVectorizer(stop_words = 'english')\n",
    "count_matrix = count_vect.fit_transform(text)\n",
    "count_array = count_matrix.toarray()\n",
    "df_1 = pd.DataFrame(data = count_array,columns = count_vect.get_feature_names_out())\n",
    "df_1.T"
   ]
  },
  {
   "cell_type": "code",
   "execution_count": 32,
   "id": "3b69a222",
   "metadata": {},
   "outputs": [
    {
     "name": "stdout",
     "output_type": "stream",
     "text": [
      "           0  1  2\n",
      "exploring  1  0  0\n",
      "focussed   0  0  1\n",
      "hope       0  1  0\n",
      "implement  0  1  0\n",
      "nlp        1  0  0\n",
      "stupid     0  0  1\n",
      "tfidf      0  1  0\n",
      "time       1  0  0\n",
      "Using bigrams instead of unigrams for analysing text data\n"
     ]
    },
    {
     "data": {
      "text/html": [
       "<div>\n",
       "<style scoped>\n",
       "    .dataframe tbody tr th:only-of-type {\n",
       "        vertical-align: middle;\n",
       "    }\n",
       "\n",
       "    .dataframe tbody tr th {\n",
       "        vertical-align: top;\n",
       "    }\n",
       "\n",
       "    .dataframe thead th {\n",
       "        text-align: right;\n",
       "    }\n",
       "</style>\n",
       "<table border=\"1\" class=\"dataframe\">\n",
       "  <thead>\n",
       "    <tr style=\"text-align: right;\">\n",
       "      <th></th>\n",
       "      <th>0</th>\n",
       "      <th>1</th>\n",
       "      <th>2</th>\n",
       "    </tr>\n",
       "  </thead>\n",
       "  <tbody>\n",
       "    <tr>\n",
       "      <th>exploring nlp</th>\n",
       "      <td>1</td>\n",
       "      <td>0</td>\n",
       "      <td>0</td>\n",
       "    </tr>\n",
       "    <tr>\n",
       "      <th>focussed stupid</th>\n",
       "      <td>0</td>\n",
       "      <td>0</td>\n",
       "      <td>1</td>\n",
       "    </tr>\n",
       "    <tr>\n",
       "      <th>hope implement</th>\n",
       "      <td>0</td>\n",
       "      <td>1</td>\n",
       "      <td>0</td>\n",
       "    </tr>\n",
       "    <tr>\n",
       "      <th>implement tfidf</th>\n",
       "      <td>0</td>\n",
       "      <td>1</td>\n",
       "      <td>0</td>\n",
       "    </tr>\n",
       "    <tr>\n",
       "      <th>time exploring</th>\n",
       "      <td>1</td>\n",
       "      <td>0</td>\n",
       "      <td>0</td>\n",
       "    </tr>\n",
       "  </tbody>\n",
       "</table>\n",
       "</div>"
      ],
      "text/plain": [
       "                 0  1  2\n",
       "exploring nlp    1  0  0\n",
       "focussed stupid  0  0  1\n",
       "hope implement   0  1  0\n",
       "implement tfidf  0  1  0\n",
       "time exploring   1  0  0"
      ]
     },
     "execution_count": 32,
     "metadata": {},
     "output_type": "execute_result"
    }
   ],
   "source": [
    "#Understanding ngram_range in CountVectorizer with an example\n",
    "\n",
    "text = ['This is the first time, I. am. exploring NLP','I hope to implement TFIDF',\n",
    "       'Be Focussed is not stupid']\n",
    "count_vect = CountVectorizer(stop_words = 'english',ngram_range = (1,1))\n",
    "count_matrix = count_vect.fit_transform(text)\n",
    "count_array = count_matrix.toarray()\n",
    "df_1 = pd.DataFrame(data = count_array,columns = count_vect.get_feature_names_out())\n",
    "print(df_1.T)\n",
    "\n",
    "#Using bigrams instead of unigrams for analysing text data\n",
    "text = ['This is the first time,I. am. exploring NLP','I hope to implement TFIDF',\n",
    "       'Be Focussed is not stupid']\n",
    "count_vect = CountVectorizer(stop_words = 'english',ngram_range = (2,2))\n",
    "count_matrix = count_vect.fit_transform(text)\n",
    "count_array = count_matrix.toarray()\n",
    "df_1 = pd.DataFrame(data = count_array,columns = count_vect.get_feature_names_out())\n",
    "print('Using bigrams instead of unigrams for analysing text data')\n",
    "df_1.T"
   ]
  },
  {
   "cell_type": "code",
   "execution_count": 36,
   "id": "b3141284",
   "metadata": {},
   "outputs": [
    {
     "data": {
      "text/plain": [
       "['This',\n",
       " 'is',\n",
       " 'the',\n",
       " 'first1',\n",
       " 'time2',\n",
       " 'I',\n",
       " 'am',\n",
       " 'exploring',\n",
       " 'NLP',\n",
       " '79',\n",
       " '89']"
      ]
     },
     "execution_count": 36,
     "metadata": {},
     "output_type": "execute_result"
    }
   ],
   "source": [
    "#Regular expression states that we can have words that start with a-zA-Z0-9\n",
    "\n",
    "from nltk.tokenize import RegexpTokenizer\n",
    "s = \"This is the first1 time2 I \\ $ . * am exploring NLP 79 89.\"\n",
    "token = RegexpTokenizer(r'[a-zA-Z0-9]+')\n",
    "token.tokenize(s)"
   ]
  },
  {
   "cell_type": "code",
   "execution_count": 22,
   "id": "d3a771b6",
   "metadata": {},
   "outputs": [
    {
     "name": "stdout",
     "output_type": "stream",
     "text": [
      "       0  00  000  00000000000  0000000000001  00000001  00001  00015  000dm  \\\n",
      "0      0   0    0            0              0         0      0      0      0   \n",
      "1      0   0    0            0              0         0      0      0      0   \n",
      "2      0   0    0            0              0         0      0      0      0   \n",
      "3      0   0    0            0              0         0      0      0      0   \n",
      "4      0   0    0            0              0         0      0      0      0   \n",
      "...   ..  ..  ...          ...            ...       ...    ...    ...    ...   \n",
      "49995  0   0    0            0              0         0      0      0      0   \n",
      "49996  0   0    0            0              0         0      0      0      0   \n",
      "49997  0   0    0            0              0         0      0      0      0   \n",
      "49998  0   0    0            0              0         0      0      0      0   \n",
      "49999  0   0    0            0              0         0      0      0      0   \n",
      "\n",
      "       000s  ...  zzzzip  zzzzz  zzzzzzzz  zzzzzzzzz  zzzzzzzzzzzz  \\\n",
      "0         0  ...       0      0         0          0             0   \n",
      "1         0  ...       0      0         0          0             0   \n",
      "2         0  ...       0      0         0          0             0   \n",
      "3         0  ...       0      0         0          0             0   \n",
      "4         0  ...       0      0         0          0             0   \n",
      "...     ...  ...     ...    ...       ...        ...           ...   \n",
      "49995     0  ...       0      0         0          0             0   \n",
      "49996     0  ...       0      0         0          0             0   \n",
      "49997     0  ...       0      0         0          0             0   \n",
      "49998     0  ...       0      0         0          0             0   \n",
      "49999     0  ...       0      0         0          0             0   \n",
      "\n",
      "       zzzzzzzzzzzzz  zzzzzzzzzzzzzzzzzz  zzzzzzzzzzzzzzzzzzzzzzzzzzzzzzz  \\\n",
      "0                  0                   0                                0   \n",
      "1                  0                   0                                0   \n",
      "2                  0                   0                                0   \n",
      "3                  0                   0                                0   \n",
      "4                  0                   0                                0   \n",
      "...              ...                 ...                              ...   \n",
      "49995              0                   0                                0   \n",
      "49996              0                   0                                0   \n",
      "49997              0                   0                                0   \n",
      "49998              0                   0                                0   \n",
      "49999              0                   0                                0   \n",
      "\n",
      "       zzzzzzzzzzzzzzzzzzzzzzzzzzzzzzzzzzzzzzzzz  \\\n",
      "0                                              0   \n",
      "1                                              0   \n",
      "2                                              0   \n",
      "3                                              0   \n",
      "4                                              0   \n",
      "...                                          ...   \n",
      "49995                                          0   \n",
      "49996                                          0   \n",
      "49997                                          0   \n",
      "49998                                          0   \n",
      "49999                                          0   \n",
      "\n",
      "       zzzzzzzzzzzzzzzzzzzzzzzzzzzzzzzzzzzzzzzzzzzz  \n",
      "0                                                 0  \n",
      "1                                                 0  \n",
      "2                                                 0  \n",
      "3                                                 0  \n",
      "4                                                 0  \n",
      "...                                             ...  \n",
      "49995                                             0  \n",
      "49996                                             0  \n",
      "49997                                             0  \n",
      "49998                                             0  \n",
      "49999                                             0  \n",
      "\n",
      "[50000 rows x 100935 columns]\n"
     ]
    }
   ],
   "source": [
    "#Creating the actual model and creating the features for the text data\n",
    "from sklearn.feature_extraction.text import CountVectorizer\n",
    "from nltk.tokenize import RegexpTokenizer\n",
    "token = RegexpTokenizer(r'[a-zA-Z0-9]+')\n",
    "cv = CountVectorizer(stop_words = 'english',ngram_range = (1,1),tokenizer = token.tokenize)\n",
    "text_counts = cv.fit_transform(df['review'])"
   ]
  },
  {
   "cell_type": "code",
   "execution_count": 20,
   "id": "a8139ff7",
   "metadata": {},
   "outputs": [
    {
     "name": "stdout",
     "output_type": "stream",
     "text": [
      "  (0, 74772)\t1\n",
      "  (0, 56931)\t1\n",
      "  (0, 97369)\t2\n",
      "  (0, 47925)\t2\n",
      "  (0, 58)\t1\n",
      "  (0, 64779)\t6\n",
      "  (0, 29727)\t2\n",
      "  (0, 52630)\t3\n",
      "  (0, 42348)\t1\n",
      "  (0, 75187)\t2\n",
      "  (0, 30582)\t1\n",
      "  (0, 39959)\t1\n",
      "  (0, 11794)\t6\n",
      "  (0, 89582)\t1\n",
      "  (0, 85827)\t2\n",
      "  (0, 12724)\t1\n",
      "  (0, 93782)\t1\n",
      "  (0, 78020)\t1\n",
      "  (0, 96301)\t4\n",
      "  (0, 79573)\t1\n",
      "  (0, 99207)\t2\n",
      "  (0, 92127)\t1\n",
      "  (0, 31520)\t1\n",
      "  (0, 40679)\t1\n",
      "  (0, 90152)\t1\n",
      "  :\t:\n",
      "  (49999, 93820)\t1\n",
      "  (49999, 51434)\t1\n",
      "  (49999, 45528)\t1\n",
      "  (49999, 30926)\t1\n",
      "  (49999, 6952)\t1\n",
      "  (49999, 40045)\t1\n",
      "  (49999, 61053)\t1\n",
      "  (49999, 44402)\t1\n",
      "  (49999, 44081)\t1\n",
      "  (49999, 31756)\t1\n",
      "  (49999, 5840)\t1\n",
      "  (49999, 91618)\t1\n",
      "  (49999, 49264)\t1\n",
      "  (49999, 84023)\t1\n",
      "  (49999, 56084)\t1\n",
      "  (49999, 73975)\t1\n",
      "  (49999, 29728)\t1\n",
      "  (49999, 13598)\t1\n",
      "  (49999, 15684)\t1\n",
      "  (49999, 30938)\t1\n",
      "  (49999, 37696)\t1\n",
      "  (49999, 73968)\t1\n",
      "  (49999, 59753)\t1\n",
      "  (49999, 20970)\t1\n",
      "  (49999, 100182)\t1\n"
     ]
    }
   ],
   "source": [
    "print(text_counts)"
   ]
  },
  {
   "cell_type": "code",
   "execution_count": 6,
   "id": "3267d46f",
   "metadata": {},
   "outputs": [],
   "source": [
    "#Splitting into train and test\n",
    "from sklearn.model_selection import train_test_split\n",
    "X_train, X_test, Y_train, Y_test = train_test_split(text_counts, df['sentiment'], test_size = 0.25,random_state = 5)"
   ]
  },
  {
   "cell_type": "code",
   "execution_count": 7,
   "id": "6b9fb09c",
   "metadata": {},
   "outputs": [],
   "source": [
    "#Using Multinomial Naive Bayes Classifier for text analysis\n",
    "from sklearn.naive_bayes import MultinomialNB"
   ]
  },
  {
   "cell_type": "code",
   "execution_count": 8,
   "id": "e08eadce",
   "metadata": {},
   "outputs": [
    {
     "data": {
      "text/plain": [
       "MultinomialNB()"
      ]
     },
     "execution_count": 8,
     "metadata": {},
     "output_type": "execute_result"
    }
   ],
   "source": [
    "MNB = MultinomialNB()\n",
    "MNB.fit(X_train,Y_train)"
   ]
  },
  {
   "cell_type": "code",
   "execution_count": 9,
   "id": "df9ff067",
   "metadata": {},
   "outputs": [],
   "source": [
    "#Predicting the score\n",
    "from sklearn import metrics\n",
    "predicted = MNB.predict(X_test)\n",
    "accuracy_score = metrics.accuracy_score(predicted, Y_test)"
   ]
  },
  {
   "cell_type": "code",
   "execution_count": 10,
   "id": "342d992f",
   "metadata": {},
   "outputs": [
    {
     "name": "stdout",
     "output_type": "stream",
     "text": [
      "0.85936\n"
     ]
    }
   ],
   "source": [
    "print(accuracy_score)"
   ]
  },
  {
   "cell_type": "code",
   "execution_count": 37,
   "id": "4e0770db",
   "metadata": {},
   "outputs": [
    {
     "name": "stdout",
     "output_type": "stream",
     "text": [
      "0.88088\n"
     ]
    }
   ],
   "source": [
    "#Accuracy of the unigram model is over 85%, we can try with bigram and trigram\n",
    "\n",
    "#Creating the actual model and creating the features for the text data\n",
    "from sklearn.feature_extraction.text import CountVectorizer\n",
    "from nltk.tokenize import RegexpTokenizer\n",
    "token = RegexpTokenizer(r'[a-zA-Z0-9]+')\n",
    "cv = CountVectorizer(stop_words = 'english',ngram_range = (1,2),tokenizer = token.tokenize)\n",
    "text_counts = cv.fit_transform(df['review'])\n",
    "\n",
    "#Splitting into train and test\n",
    "from sklearn.model_selection import train_test_split\n",
    "X_train, X_test, Y_train, Y_test = train_test_split(text_counts, df['sentiment'], test_size = 0.25,random_state = 5)\n",
    "\n",
    "#Using Multinomial Naive Bayes Classifier for text analysis\n",
    "MNB_2 = MultinomialNB()\n",
    "MNB_2.fit(X_train,Y_train)\n",
    "\n",
    "#Predicting for new data and calculating accuracy\n",
    "predicted = MNB_2.predict(X_test)\n",
    "accuracy_score = metrics.accuracy_score(predicted, Y_test)\n",
    "print(accuracy_score)"
   ]
  },
  {
   "cell_type": "code",
   "execution_count": 38,
   "id": "289d91be",
   "metadata": {},
   "outputs": [
    {
     "name": "stdout",
     "output_type": "stream",
     "text": [
      "0.88216\n"
     ]
    }
   ],
   "source": [
    "#NGRAM_RANGE(1,2) change increased the accuray to 88% from 85%, we can try with (1,3) now\n",
    "\n",
    "#Creating the actual model and creating the features for the text data\n",
    "from sklearn.feature_extraction.text import CountVectorizer\n",
    "from nltk.tokenize import RegexpTokenizer\n",
    "token = RegexpTokenizer(r'[a-zA-Z0-9]+')\n",
    "cv = CountVectorizer(stop_words = 'english',ngram_range = (1,3),tokenizer = token.tokenize)\n",
    "text_counts = cv.fit_transform(df['review'])\n",
    "\n",
    "#Splitting into train and test\n",
    "from sklearn.model_selection import train_test_split\n",
    "X_train, X_test, Y_train, Y_test = train_test_split(text_counts, df['sentiment'], test_size = 0.25,random_state = 5)\n",
    "\n",
    "#Using Multinomial Naive Bayes Classifier for text analysis\n",
    "MNB_3 = MultinomialNB()\n",
    "MNB_3.fit(X_train,Y_train)\n",
    "\n",
    "#Predicting for new data and calculating accuracy\n",
    "predicted = MNB_3.predict(X_test)\n",
    "accuracy_score = metrics.accuracy_score(predicted, Y_test)\n",
    "print(accuracy_score)"
   ]
  },
  {
   "cell_type": "code",
   "execution_count": null,
   "id": "83bf6d30",
   "metadata": {},
   "outputs": [],
   "source": [
    "#EXPLORING DIFFERENT TYPES OF NAIVE BAYES ALGORITHMS NOW \n",
    "#USED MULTINOMIAL NB TO GET 88%\n"
   ]
  },
  {
   "cell_type": "markdown",
   "id": "9c50b21f",
   "metadata": {},
   "source": [
    "Term Frequency-Inverse Document Frequency\n",
    "Let’s use TF-IDF, which takes in account the product of term frequency and inverse document frequency. Term frequency is how frequently a term has appeared in a document. Let’s say a term appears ‘f’ times in a document with ‘d’ words.\n",
    "Term Frequency = f/d\n",
    "IDF is ‘Inverse Document Frequency’. If a corpus contains N documents and the term of our interest appears only in D documents then IDF is:\n",
    "IDF = log(N/D) TF-IDF is product of Term Frequency and Inverse Document Frequency. TF-IDF shows the rarity of a word in the corpus. If a word is rare then probably its a signature word for a particular sentiment/information."
   ]
  },
  {
   "cell_type": "code",
   "execution_count": 42,
   "id": "3423476e",
   "metadata": {},
   "outputs": [
    {
     "name": "stdout",
     "output_type": "stream",
     "text": [
      "0.88456\n"
     ]
    }
   ],
   "source": [
    "#Used TFIDF as the text prepocessing step and increased the accuracy by 0.2%\n",
    "from sklearn.feature_extraction.text import TfidfVectorizer\n",
    "from nltk.tokenize import RegexpTokenizer\n",
    "token = RegexpTokenizer(r'[a-zA-Z0-9]+')\n",
    "tfidf = TfidfVectorizer(stop_words = 'english',ngram_range = (1,3),tokenizer = token.tokenize)\n",
    "text_freq = tfidf.fit_transform(df['review'])\n",
    "\n",
    "#Splitting into train and test\n",
    "from sklearn.model_selection import train_test_split\n",
    "X_train, X_test, Y_train, Y_test = train_test_split(text_freq, df['sentiment'], test_size = 0.25,random_state = 5)\n",
    "\n",
    "#Using Multinomial Naive Bayes Classifier for text analysis\n",
    "MNB_tfidf = MultinomialNB()\n",
    "MNB_tfidf.fit(X_train,Y_train)\n",
    "\n",
    "#Predicting for new data and calculating accuracy\n",
    "predicted = MNB_tfidf.predict(X_test)\n",
    "accuracy_score = metrics.accuracy_score(predicted, Y_test)\n",
    "print(accuracy_score)"
   ]
  },
  {
   "cell_type": "markdown",
   "id": "6baf1d60",
   "metadata": {},
   "source": [
    "Trying non-Bayesian algorithms\n",
    "Even the Tfidf vectorizer i.e creating a different BOW didn’t help in improving the accuracy of the model. Rather than naive Bayes algorithm we can also opt for stochastic gradient descent classifier or linear support vector classifier. Both of these are known to work well with the text data classification. Let’s try to use these:\n",
    "\n",
    "\n"
   ]
  },
  {
   "cell_type": "code",
   "execution_count": 44,
   "id": "f87956c9",
   "metadata": {},
   "outputs": [
    {
     "name": "stdout",
     "output_type": "stream",
     "text": [
      "0.88304\n"
     ]
    }
   ],
   "source": [
    "#implemented logistic regression and achieved similar accuracy\n",
    "token = RegexpTokenizer(r'[a-zA-Z0-9]+')\n",
    "tfidf = TfidfVectorizer(stop_words = 'english',ngram_range = (1,3),tokenizer = token.tokenize)\n",
    "text_freq = tfidf.fit_transform(df['review'])\n",
    "\n",
    "#Splitting into train and test\n",
    "from sklearn.model_selection import train_test_split\n",
    "X_train, X_test, Y_train, Y_test = train_test_split(text_freq, df['sentiment'], test_size = 0.25,random_state = 5)\n",
    "\n",
    "\n",
    "from sklearn.linear_model import LogisticRegression\n",
    "logisticmodel = LogisticRegression()\n",
    "logisticmodel.fit(X_train,Y_train)\n",
    "\n",
    "#Predicting for new data and calculating accuracy\n",
    "predicted = logisticmodel.predict(X_test)\n",
    "accuracy_score = metrics.accuracy_score(predicted, Y_test)\n",
    "print(accuracy_score)"
   ]
  },
  {
   "cell_type": "code",
   "execution_count": null,
   "id": "86d80fb2",
   "metadata": {},
   "outputs": [],
   "source": [
    "#implemented Support Vector Classifier and SGDClassifier\n"
   ]
  }
 ],
 "metadata": {
  "kernelspec": {
   "display_name": "Python 3 (ipykernel)",
   "language": "python",
   "name": "python3"
  },
  "language_info": {
   "codemirror_mode": {
    "name": "ipython",
    "version": 3
   },
   "file_extension": ".py",
   "mimetype": "text/x-python",
   "name": "python",
   "nbconvert_exporter": "python",
   "pygments_lexer": "ipython3",
   "version": "3.9.12"
  }
 },
 "nbformat": 4,
 "nbformat_minor": 5
}
